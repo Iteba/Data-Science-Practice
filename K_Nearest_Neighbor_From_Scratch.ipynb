{
  "nbformat": 4,
  "nbformat_minor": 0,
  "metadata": {
    "colab": {
      "provenance": [],
      "authorship_tag": "ABX9TyPL04wM33CgM0G08peoDqTH",
      "include_colab_link": true
    },
    "kernelspec": {
      "name": "python3",
      "display_name": "Python 3"
    },
    "language_info": {
      "name": "python"
    }
  },
  "cells": [
    {
      "cell_type": "markdown",
      "metadata": {
        "id": "view-in-github",
        "colab_type": "text"
      },
      "source": [
        "<a href=\"https://colab.research.google.com/github/Iteba/Data-Science-Practice/blob/main/K_Nearest_Neighbor_From_Scratch.ipynb\" target=\"_parent\"><img src=\"https://colab.research.google.com/assets/colab-badge.svg\" alt=\"Open In Colab\"/></a>"
      ]
    },
    {
      "cell_type": "markdown",
      "source": [
        "# K-Nearest Neighbour\n",
        "Using euclidean distance."
      ],
      "metadata": {
        "id": "mrdT_6enhAyH"
      }
    },
    {
      "cell_type": "code",
      "source": [
        "import numpy as np\n",
        "from collections import Counter\n",
        "\n",
        "def euclidean_distance(point1, point2):\n",
        "  point1 = np.array(point1)\n",
        "  point2 = np.array(point2)\n",
        "  return np.sqrt(np.sum((point1 - point2) ** 2))\n",
        "\n",
        "class KNN:\n",
        "  def __init__(self, k = 3):\n",
        "    self.k = k\n",
        "\n",
        "  def fit(self, X, y):\n",
        "    self.X_train = X\n",
        "    self.y_train = y\n",
        "\n",
        "  def predict(self, X):\n",
        "    predictions = [self._predict(x) for x in X]\n",
        "    return np.array(predictions)\n",
        "\n",
        "  def _predict(self, x):\n",
        "    distances = [euclidean_distance(x, X_train_point) for X_train_point in self.X_train]\n",
        "    k_indices = np.argsort(distances)[:self.k]\n",
        "    k_nearest_labels = [self.y_train[index] for index in k_indices]\n",
        "\n",
        "    return Counter(k_nearest_labels).most_common(1)[0][0]"
      ],
      "metadata": {
        "id": "D684yPhk5Zs5"
      },
      "execution_count": 170,
      "outputs": []
    },
    {
      "cell_type": "markdown",
      "source": [
        "# Test"
      ],
      "metadata": {
        "id": "sIkXPZR2hZkW"
      }
    },
    {
      "cell_type": "code",
      "source": [
        "X_train = [[1, 2], [2, 3], [3, 4], [5, 5]]\n",
        "y_train = [\"A\", \"A\", \"B\", \"B\"]\n",
        "\n",
        "\n",
        "X_test = [[2.5, 3.5]]\n",
        "\n",
        "knn = KNN()\n",
        "knn.fit(X_train, y_train)\n",
        "\n",
        "prediction = knn.predict(X_test)\n",
        "print(prediction)"
      ],
      "metadata": {
        "colab": {
          "base_uri": "https://localhost:8080/"
        },
        "collapsed": true,
        "id": "Tj_gMibrfnn3",
        "outputId": "3f9f149c-d110-4271-f442-3c974521499c"
      },
      "execution_count": 177,
      "outputs": [
        {
          "output_type": "stream",
          "name": "stdout",
          "text": [
            "['A']\n"
          ]
        }
      ]
    }
  ]
}